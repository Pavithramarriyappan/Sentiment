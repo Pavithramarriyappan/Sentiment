{
 "cells": [
  {
   "cell_type": "markdown",
   "id": "9ba76914",
   "metadata": {},
   "source": [
    "\n",
    "\n",
    "<p style=\"color:blue; font-size:40px; text-align: center;\">Sentiment Analysis</p>"
   ]
  },
  {
   "cell_type": "code",
   "execution_count": 1,
   "id": "10a497bf",
   "metadata": {},
   "outputs": [],
   "source": [
    "import pandas as pd\n",
    "import numpy as np\n",
    "import matplotlib.pyplot as plt\n",
    "import seaborn as sns\n",
    "import sklearn\n",
    "import warnings\n",
    "warnings.filterwarnings('ignore')"
   ]
  },
  {
   "cell_type": "code",
   "execution_count": 2,
   "id": "61e358f3",
   "metadata": {},
   "outputs": [],
   "source": [
    "data=pd.read_csv(\"movie.csv\")"
   ]
  },
  {
   "cell_type": "code",
   "execution_count": 3,
   "id": "adca9336",
   "metadata": {},
   "outputs": [
    {
     "data": {
      "text/html": [
       "<div>\n",
       "<style scoped>\n",
       "    .dataframe tbody tr th:only-of-type {\n",
       "        vertical-align: middle;\n",
       "    }\n",
       "\n",
       "    .dataframe tbody tr th {\n",
       "        vertical-align: top;\n",
       "    }\n",
       "\n",
       "    .dataframe thead th {\n",
       "        text-align: right;\n",
       "    }\n",
       "</style>\n",
       "<table border=\"1\" class=\"dataframe\">\n",
       "  <thead>\n",
       "    <tr style=\"text-align: right;\">\n",
       "      <th></th>\n",
       "      <th>text</th>\n",
       "      <th>label</th>\n",
       "    </tr>\n",
       "  </thead>\n",
       "  <tbody>\n",
       "    <tr>\n",
       "      <th>0</th>\n",
       "      <td>I grew up (b. 1965) watching and loving the Th...</td>\n",
       "      <td>0</td>\n",
       "    </tr>\n",
       "    <tr>\n",
       "      <th>1</th>\n",
       "      <td>When I put this movie in my DVD player, and sa...</td>\n",
       "      <td>0</td>\n",
       "    </tr>\n",
       "    <tr>\n",
       "      <th>2</th>\n",
       "      <td>Why do people who do not know what a particula...</td>\n",
       "      <td>0</td>\n",
       "    </tr>\n",
       "    <tr>\n",
       "      <th>3</th>\n",
       "      <td>Even though I have great interest in Biblical ...</td>\n",
       "      <td>0</td>\n",
       "    </tr>\n",
       "    <tr>\n",
       "      <th>4</th>\n",
       "      <td>Im a die hard Dads Army fan and nothing will e...</td>\n",
       "      <td>1</td>\n",
       "    </tr>\n",
       "  </tbody>\n",
       "</table>\n",
       "</div>"
      ],
      "text/plain": [
       "                                                text  label\n",
       "0  I grew up (b. 1965) watching and loving the Th...      0\n",
       "1  When I put this movie in my DVD player, and sa...      0\n",
       "2  Why do people who do not know what a particula...      0\n",
       "3  Even though I have great interest in Biblical ...      0\n",
       "4  Im a die hard Dads Army fan and nothing will e...      1"
      ]
     },
     "execution_count": 3,
     "metadata": {},
     "output_type": "execute_result"
    }
   ],
   "source": [
    "data.head(5)"
   ]
  },
  {
   "cell_type": "code",
   "execution_count": 4,
   "id": "c5b2c24b",
   "metadata": {},
   "outputs": [],
   "source": [
    "df=data.sample(1000)"
   ]
  },
  {
   "cell_type": "code",
   "execution_count": 5,
   "id": "43747c5f",
   "metadata": {},
   "outputs": [
    {
     "data": {
      "text/html": [
       "<div>\n",
       "<style scoped>\n",
       "    .dataframe tbody tr th:only-of-type {\n",
       "        vertical-align: middle;\n",
       "    }\n",
       "\n",
       "    .dataframe tbody tr th {\n",
       "        vertical-align: top;\n",
       "    }\n",
       "\n",
       "    .dataframe thead th {\n",
       "        text-align: right;\n",
       "    }\n",
       "</style>\n",
       "<table border=\"1\" class=\"dataframe\">\n",
       "  <thead>\n",
       "    <tr style=\"text-align: right;\">\n",
       "      <th></th>\n",
       "      <th>text</th>\n",
       "      <th>label</th>\n",
       "    </tr>\n",
       "  </thead>\n",
       "  <tbody>\n",
       "    <tr>\n",
       "      <th>34500</th>\n",
       "      <td>This movie is another one on my List of Movies...</td>\n",
       "      <td>0</td>\n",
       "    </tr>\n",
       "    <tr>\n",
       "      <th>584</th>\n",
       "      <td>This movie serves as a timely warning to anyon...</td>\n",
       "      <td>0</td>\n",
       "    </tr>\n",
       "    <tr>\n",
       "      <th>21643</th>\n",
       "      <td>I've seen Mystery Men cop a bit of stick in th...</td>\n",
       "      <td>1</td>\n",
       "    </tr>\n",
       "    <tr>\n",
       "      <th>32806</th>\n",
       "      <td>...........as I was when I saw this movie) I w...</td>\n",
       "      <td>1</td>\n",
       "    </tr>\n",
       "    <tr>\n",
       "      <th>14681</th>\n",
       "      <td>Whenever Ida Lupino appeared or directed a fil...</td>\n",
       "      <td>1</td>\n",
       "    </tr>\n",
       "    <tr>\n",
       "      <th>...</th>\n",
       "      <td>...</td>\n",
       "      <td>...</td>\n",
       "    </tr>\n",
       "    <tr>\n",
       "      <th>37344</th>\n",
       "      <td>I am not sure why I like Dolph Lundgren. I gue...</td>\n",
       "      <td>0</td>\n",
       "    </tr>\n",
       "    <tr>\n",
       "      <th>10275</th>\n",
       "      <td>As a CA resident, I'd like to see the jackhole...</td>\n",
       "      <td>0</td>\n",
       "    </tr>\n",
       "    <tr>\n",
       "      <th>20532</th>\n",
       "      <td>Ever since 1981, Nintendo has been making grea...</td>\n",
       "      <td>1</td>\n",
       "    </tr>\n",
       "    <tr>\n",
       "      <th>3357</th>\n",
       "      <td>For me this movie is essentially like a featur...</td>\n",
       "      <td>0</td>\n",
       "    </tr>\n",
       "    <tr>\n",
       "      <th>30163</th>\n",
       "      <td>This is one of those horror flicks where twent...</td>\n",
       "      <td>0</td>\n",
       "    </tr>\n",
       "  </tbody>\n",
       "</table>\n",
       "<p>1000 rows × 2 columns</p>\n",
       "</div>"
      ],
      "text/plain": [
       "                                                    text  label\n",
       "34500  This movie is another one on my List of Movies...      0\n",
       "584    This movie serves as a timely warning to anyon...      0\n",
       "21643  I've seen Mystery Men cop a bit of stick in th...      1\n",
       "32806  ...........as I was when I saw this movie) I w...      1\n",
       "14681  Whenever Ida Lupino appeared or directed a fil...      1\n",
       "...                                                  ...    ...\n",
       "37344  I am not sure why I like Dolph Lundgren. I gue...      0\n",
       "10275  As a CA resident, I'd like to see the jackhole...      0\n",
       "20532  Ever since 1981, Nintendo has been making grea...      1\n",
       "3357   For me this movie is essentially like a featur...      0\n",
       "30163  This is one of those horror flicks where twent...      0\n",
       "\n",
       "[1000 rows x 2 columns]"
      ]
     },
     "execution_count": 5,
     "metadata": {},
     "output_type": "execute_result"
    }
   ],
   "source": [
    "df"
   ]
  },
  {
   "cell_type": "code",
   "execution_count": 6,
   "id": "0b032ab6",
   "metadata": {},
   "outputs": [
    {
     "name": "stdout",
     "output_type": "stream",
     "text": [
      "<class 'pandas.core.frame.DataFrame'>\n",
      "Int64Index: 1000 entries, 34500 to 30163\n",
      "Data columns (total 2 columns):\n",
      " #   Column  Non-Null Count  Dtype \n",
      "---  ------  --------------  ----- \n",
      " 0   text    1000 non-null   object\n",
      " 1   label   1000 non-null   int64 \n",
      "dtypes: int64(1), object(1)\n",
      "memory usage: 23.4+ KB\n"
     ]
    }
   ],
   "source": [
    "df.info()"
   ]
  },
  {
   "cell_type": "code",
   "execution_count": 7,
   "id": "5a10e6b2",
   "metadata": {},
   "outputs": [],
   "source": [
    "df.rename({'text':'review','label':'sentiment'},inplace=True,axis=1)"
   ]
  },
  {
   "cell_type": "code",
   "execution_count": 8,
   "id": "50e7ffc7",
   "metadata": {},
   "outputs": [
    {
     "data": {
      "text/plain": [
       "Index(['review', 'sentiment'], dtype='object')"
      ]
     },
     "execution_count": 8,
     "metadata": {},
     "output_type": "execute_result"
    }
   ],
   "source": [
    "df.columns"
   ]
  },
  {
   "cell_type": "code",
   "execution_count": 9,
   "id": "0d6758a2",
   "metadata": {},
   "outputs": [
    {
     "data": {
      "text/html": [
       "<div>\n",
       "<style scoped>\n",
       "    .dataframe tbody tr th:only-of-type {\n",
       "        vertical-align: middle;\n",
       "    }\n",
       "\n",
       "    .dataframe tbody tr th {\n",
       "        vertical-align: top;\n",
       "    }\n",
       "\n",
       "    .dataframe thead th {\n",
       "        text-align: right;\n",
       "    }\n",
       "</style>\n",
       "<table border=\"1\" class=\"dataframe\">\n",
       "  <thead>\n",
       "    <tr style=\"text-align: right;\">\n",
       "      <th></th>\n",
       "      <th>review</th>\n",
       "      <th>sentiment</th>\n",
       "    </tr>\n",
       "  </thead>\n",
       "  <tbody>\n",
       "    <tr>\n",
       "      <th>34500</th>\n",
       "      <td>This movie is another one on my List of Movies...</td>\n",
       "      <td>0</td>\n",
       "    </tr>\n",
       "    <tr>\n",
       "      <th>584</th>\n",
       "      <td>This movie serves as a timely warning to anyon...</td>\n",
       "      <td>0</td>\n",
       "    </tr>\n",
       "    <tr>\n",
       "      <th>21643</th>\n",
       "      <td>I've seen Mystery Men cop a bit of stick in th...</td>\n",
       "      <td>1</td>\n",
       "    </tr>\n",
       "    <tr>\n",
       "      <th>32806</th>\n",
       "      <td>...........as I was when I saw this movie) I w...</td>\n",
       "      <td>1</td>\n",
       "    </tr>\n",
       "    <tr>\n",
       "      <th>14681</th>\n",
       "      <td>Whenever Ida Lupino appeared or directed a fil...</td>\n",
       "      <td>1</td>\n",
       "    </tr>\n",
       "    <tr>\n",
       "      <th>...</th>\n",
       "      <td>...</td>\n",
       "      <td>...</td>\n",
       "    </tr>\n",
       "    <tr>\n",
       "      <th>37344</th>\n",
       "      <td>I am not sure why I like Dolph Lundgren. I gue...</td>\n",
       "      <td>0</td>\n",
       "    </tr>\n",
       "    <tr>\n",
       "      <th>10275</th>\n",
       "      <td>As a CA resident, I'd like to see the jackhole...</td>\n",
       "      <td>0</td>\n",
       "    </tr>\n",
       "    <tr>\n",
       "      <th>20532</th>\n",
       "      <td>Ever since 1981, Nintendo has been making grea...</td>\n",
       "      <td>1</td>\n",
       "    </tr>\n",
       "    <tr>\n",
       "      <th>3357</th>\n",
       "      <td>For me this movie is essentially like a featur...</td>\n",
       "      <td>0</td>\n",
       "    </tr>\n",
       "    <tr>\n",
       "      <th>30163</th>\n",
       "      <td>This is one of those horror flicks where twent...</td>\n",
       "      <td>0</td>\n",
       "    </tr>\n",
       "  </tbody>\n",
       "</table>\n",
       "<p>1000 rows × 2 columns</p>\n",
       "</div>"
      ],
      "text/plain": [
       "                                                  review  sentiment\n",
       "34500  This movie is another one on my List of Movies...          0\n",
       "584    This movie serves as a timely warning to anyon...          0\n",
       "21643  I've seen Mystery Men cop a bit of stick in th...          1\n",
       "32806  ...........as I was when I saw this movie) I w...          1\n",
       "14681  Whenever Ida Lupino appeared or directed a fil...          1\n",
       "...                                                  ...        ...\n",
       "37344  I am not sure why I like Dolph Lundgren. I gue...          0\n",
       "10275  As a CA resident, I'd like to see the jackhole...          0\n",
       "20532  Ever since 1981, Nintendo has been making grea...          1\n",
       "3357   For me this movie is essentially like a featur...          0\n",
       "30163  This is one of those horror flicks where twent...          0\n",
       "\n",
       "[1000 rows x 2 columns]"
      ]
     },
     "execution_count": 9,
     "metadata": {},
     "output_type": "execute_result"
    }
   ],
   "source": [
    "df"
   ]
  },
  {
   "cell_type": "code",
   "execution_count": 10,
   "id": "0912fead",
   "metadata": {},
   "outputs": [
    {
     "data": {
      "text/plain": [
       "\"This movie is another one on my List of Movies Not To Bother With. Saw it 40 years ago as an adolescent, stayed up late to do so, was very annoyed to find that it was about 95% romance,4% everything else, 1% history if that. It's what I call a bait and switch movie, one with an interesting title, the actual movie is a scam. This is a subject which deserves a good cinematic treatment, this movie is almost an insult to those who served. The actual members of the Lafayette Escadrille were not on the run from the law nor were they the products of abusive homes, they were in reality idealists who wanted to do something to help France. And I suspect many of them came from a more upper class background than Tab Hunter's character. Flying school is not for the smart alecks and the know it alls, an individual such as the one portrayed here wouldn't have lasted two days, it would have either been the stockade or the infantry. Discipline in the French Army was often rather fierce. In short, another Hollywierd version of an historical episode that deserves proper treatment.\""
      ]
     },
     "execution_count": 10,
     "metadata": {},
     "output_type": "execute_result"
    }
   ],
   "source": [
    "df['review'].iloc[0]"
   ]
  },
  {
   "cell_type": "code",
   "execution_count": 11,
   "id": "7b602b28",
   "metadata": {},
   "outputs": [],
   "source": [
    "import re"
   ]
  },
  {
   "cell_type": "code",
   "execution_count": 12,
   "id": "105e8c19",
   "metadata": {},
   "outputs": [],
   "source": [
    "def clean_html(x):\n",
    "    clean=re.compile('<.*/\\>')\n",
    "    return re.sub(clean,'',x)"
   ]
  },
  {
   "cell_type": "code",
   "execution_count": 13,
   "id": "fbeb28c6",
   "metadata": {},
   "outputs": [],
   "source": [
    "df['review']=df['review'].apply(clean_html)"
   ]
  },
  {
   "cell_type": "code",
   "execution_count": 14,
   "id": "0fd3c497",
   "metadata": {},
   "outputs": [
    {
     "data": {
      "text/plain": [
       "\"This movie is another one on my List of Movies Not To Bother With. Saw it 40 years ago as an adolescent, stayed up late to do so, was very annoyed to find that it was about 95% romance,4% everything else, 1% history if that. It's what I call a bait and switch movie, one with an interesting title, the actual movie is a scam. This is a subject which deserves a good cinematic treatment, this movie is almost an insult to those who served. The actual members of the Lafayette Escadrille were not on the run from the law nor were they the products of abusive homes, they were in reality idealists who wanted to do something to help France. And I suspect many of them came from a more upper class background than Tab Hunter's character. Flying school is not for the smart alecks and the know it alls, an individual such as the one portrayed here wouldn't have lasted two days, it would have either been the stockade or the infantry. Discipline in the French Army was often rather fierce. In short, another Hollywierd version of an historical episode that deserves proper treatment.\""
      ]
     },
     "execution_count": 14,
     "metadata": {},
     "output_type": "execute_result"
    }
   ],
   "source": [
    "df['review'].iloc[0]"
   ]
  },
  {
   "cell_type": "code",
   "execution_count": 15,
   "id": "c2b035e0",
   "metadata": {},
   "outputs": [],
   "source": [
    "def convert_to_lower(x):\n",
    "    return x.lower()"
   ]
  },
  {
   "cell_type": "code",
   "execution_count": 16,
   "id": "6d1047aa",
   "metadata": {},
   "outputs": [],
   "source": [
    "df['review']=df['review'].apply(convert_to_lower)"
   ]
  },
  {
   "cell_type": "code",
   "execution_count": 17,
   "id": "cf6562e1",
   "metadata": {},
   "outputs": [
    {
     "data": {
      "text/plain": [
       "\"this movie is another one on my list of movies not to bother with. saw it 40 years ago as an adolescent, stayed up late to do so, was very annoyed to find that it was about 95% romance,4% everything else, 1% history if that. it's what i call a bait and switch movie, one with an interesting title, the actual movie is a scam. this is a subject which deserves a good cinematic treatment, this movie is almost an insult to those who served. the actual members of the lafayette escadrille were not on the run from the law nor were they the products of abusive homes, they were in reality idealists who wanted to do something to help france. and i suspect many of them came from a more upper class background than tab hunter's character. flying school is not for the smart alecks and the know it alls, an individual such as the one portrayed here wouldn't have lasted two days, it would have either been the stockade or the infantry. discipline in the french army was often rather fierce. in short, another hollywierd version of an historical episode that deserves proper treatment.\""
      ]
     },
     "execution_count": 17,
     "metadata": {},
     "output_type": "execute_result"
    }
   ],
   "source": [
    "df['review'].iloc[0]"
   ]
  },
  {
   "cell_type": "code",
   "execution_count": 18,
   "id": "420caa78",
   "metadata": {},
   "outputs": [],
   "source": [
    "def remove_special(text):\n",
    "    x=''\n",
    "    for i in text:\n",
    "        if i.isalnum():\n",
    "            x=x+i\n",
    "        else:\n",
    "            x=x+' '\n",
    "    return x"
   ]
  },
  {
   "cell_type": "code",
   "execution_count": 19,
   "id": "ba8057a7",
   "metadata": {},
   "outputs": [],
   "source": [
    "df['review']=df['review'].apply(remove_special)"
   ]
  },
  {
   "cell_type": "code",
   "execution_count": 20,
   "id": "5fdc13f1",
   "metadata": {},
   "outputs": [
    {
     "data": {
      "text/plain": [
       "'this movie is another one on my list of movies not to bother with  saw it 40 years ago as an adolescent  stayed up late to do so  was very annoyed to find that it was about 95  romance 4  everything else  1  history if that  it s what i call a bait and switch movie  one with an interesting title  the actual movie is a scam  this is a subject which deserves a good cinematic treatment  this movie is almost an insult to those who served  the actual members of the lafayette escadrille were not on the run from the law nor were they the products of abusive homes  they were in reality idealists who wanted to do something to help france  and i suspect many of them came from a more upper class background than tab hunter s character  flying school is not for the smart alecks and the know it alls  an individual such as the one portrayed here wouldn t have lasted two days  it would have either been the stockade or the infantry  discipline in the french army was often rather fierce  in short  another hollywierd version of an historical episode that deserves proper treatment '"
      ]
     },
     "execution_count": 20,
     "metadata": {},
     "output_type": "execute_result"
    }
   ],
   "source": [
    "df['review'].iloc[0]"
   ]
  },
  {
   "cell_type": "code",
   "execution_count": 21,
   "id": "e7b94161",
   "metadata": {},
   "outputs": [
    {
     "name": "stderr",
     "output_type": "stream",
     "text": [
      "[nltk_data] Error loading stopwords: <urlopen error [Errno 11001]\n",
      "[nltk_data]     getaddrinfo failed>\n"
     ]
    },
    {
     "data": {
      "text/plain": [
       "False"
      ]
     },
     "execution_count": 21,
     "metadata": {},
     "output_type": "execute_result"
    }
   ],
   "source": [
    "import nltk\n",
    "nltk.download('stopwords')"
   ]
  },
  {
   "cell_type": "code",
   "execution_count": 22,
   "id": "f9f42a31",
   "metadata": {},
   "outputs": [],
   "source": [
    "from nltk.corpus import stopwords"
   ]
  },
  {
   "cell_type": "code",
   "execution_count": 23,
   "id": "8f2bc6ed",
   "metadata": {},
   "outputs": [],
   "source": [
    "a=stopwords.words('english')\n"
   ]
  },
  {
   "cell_type": "code",
   "execution_count": 24,
   "id": "e92ace76",
   "metadata": {},
   "outputs": [
    {
     "data": {
      "text/plain": [
       "['i',\n",
       " 'me',\n",
       " 'my',\n",
       " 'myself',\n",
       " 'we',\n",
       " 'our',\n",
       " 'ours',\n",
       " 'ourselves',\n",
       " 'you',\n",
       " \"you're\",\n",
       " \"you've\",\n",
       " \"you'll\",\n",
       " \"you'd\",\n",
       " 'your',\n",
       " 'yours',\n",
       " 'yourself',\n",
       " 'yourselves',\n",
       " 'he',\n",
       " 'him',\n",
       " 'his',\n",
       " 'himself',\n",
       " 'she',\n",
       " \"she's\",\n",
       " 'her',\n",
       " 'hers',\n",
       " 'herself',\n",
       " 'it',\n",
       " \"it's\",\n",
       " 'its',\n",
       " 'itself',\n",
       " 'they',\n",
       " 'them',\n",
       " 'their',\n",
       " 'theirs',\n",
       " 'themselves',\n",
       " 'what',\n",
       " 'which',\n",
       " 'who',\n",
       " 'whom',\n",
       " 'this',\n",
       " 'that',\n",
       " \"that'll\",\n",
       " 'these',\n",
       " 'those',\n",
       " 'am',\n",
       " 'is',\n",
       " 'are',\n",
       " 'was',\n",
       " 'were',\n",
       " 'be',\n",
       " 'been',\n",
       " 'being',\n",
       " 'have',\n",
       " 'has',\n",
       " 'had',\n",
       " 'having',\n",
       " 'do',\n",
       " 'does',\n",
       " 'did',\n",
       " 'doing',\n",
       " 'a',\n",
       " 'an',\n",
       " 'the',\n",
       " 'and',\n",
       " 'but',\n",
       " 'if',\n",
       " 'or',\n",
       " 'because',\n",
       " 'as',\n",
       " 'until',\n",
       " 'while',\n",
       " 'of',\n",
       " 'at',\n",
       " 'by',\n",
       " 'for',\n",
       " 'with',\n",
       " 'about',\n",
       " 'against',\n",
       " 'between',\n",
       " 'into',\n",
       " 'through',\n",
       " 'during',\n",
       " 'before',\n",
       " 'after',\n",
       " 'above',\n",
       " 'below',\n",
       " 'to',\n",
       " 'from',\n",
       " 'up',\n",
       " 'down',\n",
       " 'in',\n",
       " 'out',\n",
       " 'on',\n",
       " 'off',\n",
       " 'over',\n",
       " 'under',\n",
       " 'again',\n",
       " 'further',\n",
       " 'then',\n",
       " 'once',\n",
       " 'here',\n",
       " 'there',\n",
       " 'when',\n",
       " 'where',\n",
       " 'why',\n",
       " 'how',\n",
       " 'all',\n",
       " 'any',\n",
       " 'both',\n",
       " 'each',\n",
       " 'few',\n",
       " 'more',\n",
       " 'most',\n",
       " 'other',\n",
       " 'some',\n",
       " 'such',\n",
       " 'no',\n",
       " 'nor',\n",
       " 'not',\n",
       " 'only',\n",
       " 'own',\n",
       " 'same',\n",
       " 'so',\n",
       " 'than',\n",
       " 'too',\n",
       " 'very',\n",
       " 's',\n",
       " 't',\n",
       " 'can',\n",
       " 'will',\n",
       " 'just',\n",
       " 'don',\n",
       " \"don't\",\n",
       " 'should',\n",
       " \"should've\",\n",
       " 'now',\n",
       " 'd',\n",
       " 'll',\n",
       " 'm',\n",
       " 'o',\n",
       " 're',\n",
       " 've',\n",
       " 'y',\n",
       " 'ain',\n",
       " 'aren',\n",
       " \"aren't\",\n",
       " 'couldn',\n",
       " \"couldn't\",\n",
       " 'didn',\n",
       " \"didn't\",\n",
       " 'doesn',\n",
       " \"doesn't\",\n",
       " 'hadn',\n",
       " \"hadn't\",\n",
       " 'hasn',\n",
       " \"hasn't\",\n",
       " 'haven',\n",
       " \"haven't\",\n",
       " 'isn',\n",
       " \"isn't\",\n",
       " 'ma',\n",
       " 'mightn',\n",
       " \"mightn't\",\n",
       " 'mustn',\n",
       " \"mustn't\",\n",
       " 'needn',\n",
       " \"needn't\",\n",
       " 'shan',\n",
       " \"shan't\",\n",
       " 'shouldn',\n",
       " \"shouldn't\",\n",
       " 'wasn',\n",
       " \"wasn't\",\n",
       " 'weren',\n",
       " \"weren't\",\n",
       " 'won',\n",
       " \"won't\",\n",
       " 'wouldn',\n",
       " \"wouldn't\"]"
      ]
     },
     "execution_count": 24,
     "metadata": {},
     "output_type": "execute_result"
    }
   ],
   "source": [
    "a"
   ]
  },
  {
   "cell_type": "code",
   "execution_count": 25,
   "id": "02a851c2",
   "metadata": {},
   "outputs": [],
   "source": [
    "def remove_stopwords(text):\n",
    "    x=[]\n",
    "    for i in text.split():\n",
    "        if i not in a:\n",
    "            x.append(i)\n",
    "    y=x[:]\n",
    "    x.clear()\n",
    "    return y"
   ]
  },
  {
   "cell_type": "code",
   "execution_count": 26,
   "id": "77f401e1",
   "metadata": {},
   "outputs": [],
   "source": [
    "df['review']=df['review'].apply(remove_stopwords)"
   ]
  },
  {
   "cell_type": "code",
   "execution_count": 27,
   "id": "d4fe7b36",
   "metadata": {},
   "outputs": [
    {
     "data": {
      "text/plain": [
       "['movie',\n",
       " 'another',\n",
       " 'one',\n",
       " 'list',\n",
       " 'movies',\n",
       " 'bother',\n",
       " 'saw',\n",
       " '40',\n",
       " 'years',\n",
       " 'ago',\n",
       " 'adolescent',\n",
       " 'stayed',\n",
       " 'late',\n",
       " 'annoyed',\n",
       " 'find',\n",
       " '95',\n",
       " 'romance',\n",
       " '4',\n",
       " 'everything',\n",
       " 'else',\n",
       " '1',\n",
       " 'history',\n",
       " 'call',\n",
       " 'bait',\n",
       " 'switch',\n",
       " 'movie',\n",
       " 'one',\n",
       " 'interesting',\n",
       " 'title',\n",
       " 'actual',\n",
       " 'movie',\n",
       " 'scam',\n",
       " 'subject',\n",
       " 'deserves',\n",
       " 'good',\n",
       " 'cinematic',\n",
       " 'treatment',\n",
       " 'movie',\n",
       " 'almost',\n",
       " 'insult',\n",
       " 'served',\n",
       " 'actual',\n",
       " 'members',\n",
       " 'lafayette',\n",
       " 'escadrille',\n",
       " 'run',\n",
       " 'law',\n",
       " 'products',\n",
       " 'abusive',\n",
       " 'homes',\n",
       " 'reality',\n",
       " 'idealists',\n",
       " 'wanted',\n",
       " 'something',\n",
       " 'help',\n",
       " 'france',\n",
       " 'suspect',\n",
       " 'many',\n",
       " 'came',\n",
       " 'upper',\n",
       " 'class',\n",
       " 'background',\n",
       " 'tab',\n",
       " 'hunter',\n",
       " 'character',\n",
       " 'flying',\n",
       " 'school',\n",
       " 'smart',\n",
       " 'alecks',\n",
       " 'know',\n",
       " 'alls',\n",
       " 'individual',\n",
       " 'one',\n",
       " 'portrayed',\n",
       " 'lasted',\n",
       " 'two',\n",
       " 'days',\n",
       " 'would',\n",
       " 'either',\n",
       " 'stockade',\n",
       " 'infantry',\n",
       " 'discipline',\n",
       " 'french',\n",
       " 'army',\n",
       " 'often',\n",
       " 'rather',\n",
       " 'fierce',\n",
       " 'short',\n",
       " 'another',\n",
       " 'hollywierd',\n",
       " 'version',\n",
       " 'historical',\n",
       " 'episode',\n",
       " 'deserves',\n",
       " 'proper',\n",
       " 'treatment']"
      ]
     },
     "execution_count": 27,
     "metadata": {},
     "output_type": "execute_result"
    }
   ],
   "source": [
    "df['review'].iloc[0]"
   ]
  },
  {
   "cell_type": "code",
   "execution_count": 28,
   "id": "1e0ffa30",
   "metadata": {},
   "outputs": [],
   "source": [
    "from nltk.stem.porter import PorterStemmer"
   ]
  },
  {
   "cell_type": "code",
   "execution_count": 29,
   "id": "04945f02",
   "metadata": {},
   "outputs": [],
   "source": [
    "ps=PorterStemmer()"
   ]
  },
  {
   "cell_type": "code",
   "execution_count": 30,
   "id": "fc08ab88",
   "metadata": {},
   "outputs": [],
   "source": [
    "def stem_words(text):\n",
    "    y=[]\n",
    "    for i in text:\n",
    "        y.append(ps.stem(i))\n",
    "    z=y[:]\n",
    "    y.clear()\n",
    "    return z"
   ]
  },
  {
   "cell_type": "code",
   "execution_count": 31,
   "id": "719cbc49",
   "metadata": {},
   "outputs": [],
   "source": [
    "df['review']=df['review'].apply(stem_words)"
   ]
  },
  {
   "cell_type": "code",
   "execution_count": 32,
   "id": "f11624f0",
   "metadata": {},
   "outputs": [
    {
     "data": {
      "text/plain": [
       "['movi',\n",
       " 'anoth',\n",
       " 'one',\n",
       " 'list',\n",
       " 'movi',\n",
       " 'bother',\n",
       " 'saw',\n",
       " '40',\n",
       " 'year',\n",
       " 'ago',\n",
       " 'adolesc',\n",
       " 'stay',\n",
       " 'late',\n",
       " 'annoy',\n",
       " 'find',\n",
       " '95',\n",
       " 'romanc',\n",
       " '4',\n",
       " 'everyth',\n",
       " 'els',\n",
       " '1',\n",
       " 'histori',\n",
       " 'call',\n",
       " 'bait',\n",
       " 'switch',\n",
       " 'movi',\n",
       " 'one',\n",
       " 'interest',\n",
       " 'titl',\n",
       " 'actual',\n",
       " 'movi',\n",
       " 'scam',\n",
       " 'subject',\n",
       " 'deserv',\n",
       " 'good',\n",
       " 'cinemat',\n",
       " 'treatment',\n",
       " 'movi',\n",
       " 'almost',\n",
       " 'insult',\n",
       " 'serv',\n",
       " 'actual',\n",
       " 'member',\n",
       " 'lafayett',\n",
       " 'escadril',\n",
       " 'run',\n",
       " 'law',\n",
       " 'product',\n",
       " 'abus',\n",
       " 'home',\n",
       " 'realiti',\n",
       " 'idealist',\n",
       " 'want',\n",
       " 'someth',\n",
       " 'help',\n",
       " 'franc',\n",
       " 'suspect',\n",
       " 'mani',\n",
       " 'came',\n",
       " 'upper',\n",
       " 'class',\n",
       " 'background',\n",
       " 'tab',\n",
       " 'hunter',\n",
       " 'charact',\n",
       " 'fli',\n",
       " 'school',\n",
       " 'smart',\n",
       " 'aleck',\n",
       " 'know',\n",
       " 'all',\n",
       " 'individu',\n",
       " 'one',\n",
       " 'portray',\n",
       " 'last',\n",
       " 'two',\n",
       " 'day',\n",
       " 'would',\n",
       " 'either',\n",
       " 'stockad',\n",
       " 'infantri',\n",
       " 'disciplin',\n",
       " 'french',\n",
       " 'armi',\n",
       " 'often',\n",
       " 'rather',\n",
       " 'fierc',\n",
       " 'short',\n",
       " 'anoth',\n",
       " 'hollywierd',\n",
       " 'version',\n",
       " 'histor',\n",
       " 'episod',\n",
       " 'deserv',\n",
       " 'proper',\n",
       " 'treatment']"
      ]
     },
     "execution_count": 32,
     "metadata": {},
     "output_type": "execute_result"
    }
   ],
   "source": [
    "df['review'].iloc[0]"
   ]
  },
  {
   "cell_type": "code",
   "execution_count": 33,
   "id": "2046e0e3",
   "metadata": {},
   "outputs": [],
   "source": [
    "def join_back(list_input):\n",
    "    return ' '.join(list_input)"
   ]
  },
  {
   "cell_type": "code",
   "execution_count": 34,
   "id": "000498e4",
   "metadata": {},
   "outputs": [],
   "source": [
    "df['review']=df['review'].apply(join_back)\n"
   ]
  },
  {
   "cell_type": "code",
   "execution_count": 35,
   "id": "d4c8b129",
   "metadata": {},
   "outputs": [
    {
     "data": {
      "text/plain": [
       "'movi anoth one list movi bother saw 40 year ago adolesc stay late annoy find 95 romanc 4 everyth els 1 histori call bait switch movi one interest titl actual movi scam subject deserv good cinemat treatment movi almost insult serv actual member lafayett escadril run law product abus home realiti idealist want someth help franc suspect mani came upper class background tab hunter charact fli school smart aleck know all individu one portray last two day would either stockad infantri disciplin french armi often rather fierc short anoth hollywierd version histor episod deserv proper treatment'"
      ]
     },
     "execution_count": 35,
     "metadata": {},
     "output_type": "execute_result"
    }
   ],
   "source": [
    "df['review'].iloc[0]"
   ]
  },
  {
   "cell_type": "code",
   "execution_count": 36,
   "id": "af82540c",
   "metadata": {},
   "outputs": [],
   "source": [
    "x=df.drop('sentiment',axis=1)"
   ]
  },
  {
   "cell_type": "code",
   "execution_count": 37,
   "id": "6eb8c236",
   "metadata": {},
   "outputs": [
    {
     "data": {
      "text/html": [
       "<div>\n",
       "<style scoped>\n",
       "    .dataframe tbody tr th:only-of-type {\n",
       "        vertical-align: middle;\n",
       "    }\n",
       "\n",
       "    .dataframe tbody tr th {\n",
       "        vertical-align: top;\n",
       "    }\n",
       "\n",
       "    .dataframe thead th {\n",
       "        text-align: right;\n",
       "    }\n",
       "</style>\n",
       "<table border=\"1\" class=\"dataframe\">\n",
       "  <thead>\n",
       "    <tr style=\"text-align: right;\">\n",
       "      <th></th>\n",
       "      <th>review</th>\n",
       "    </tr>\n",
       "  </thead>\n",
       "  <tbody>\n",
       "    <tr>\n",
       "      <th>34500</th>\n",
       "      <td>movi anoth one list movi bother saw 40 year ag...</td>\n",
       "    </tr>\n",
       "    <tr>\n",
       "      <th>584</th>\n",
       "      <td>movi serv time warn anyon think write direct m...</td>\n",
       "    </tr>\n",
       "    <tr>\n",
       "      <th>21643</th>\n",
       "      <td>seen mysteri men cop bit stick press gener pub...</td>\n",
       "    </tr>\n",
       "    <tr>\n",
       "      <th>32806</th>\n",
       "      <td>saw movi never watch movi bad movi scare much ...</td>\n",
       "    </tr>\n",
       "    <tr>\n",
       "      <th>14681</th>\n",
       "      <td>whenev ida lupino appear direct film 30 40 50 ...</td>\n",
       "    </tr>\n",
       "    <tr>\n",
       "      <th>...</th>\n",
       "      <td>...</td>\n",
       "    </tr>\n",
       "    <tr>\n",
       "      <th>37344</th>\n",
       "      <td>sure like dolph lundgren guess see screen make...</td>\n",
       "    </tr>\n",
       "    <tr>\n",
       "      <th>10275</th>\n",
       "      <td>ca resid like see jackhol shut electr plant ra...</td>\n",
       "    </tr>\n",
       "    <tr>\n",
       "      <th>20532</th>\n",
       "      <td>ever sinc 1981 nintendo make great video game ...</td>\n",
       "    </tr>\n",
       "    <tr>\n",
       "      <th>3357</th>\n",
       "      <td>movi essenti like featur length pilot episod t...</td>\n",
       "    </tr>\n",
       "    <tr>\n",
       "      <th>30163</th>\n",
       "      <td>one horror flick twenti someth fool around dar...</td>\n",
       "    </tr>\n",
       "  </tbody>\n",
       "</table>\n",
       "<p>1000 rows × 1 columns</p>\n",
       "</div>"
      ],
      "text/plain": [
       "                                                  review\n",
       "34500  movi anoth one list movi bother saw 40 year ag...\n",
       "584    movi serv time warn anyon think write direct m...\n",
       "21643  seen mysteri men cop bit stick press gener pub...\n",
       "32806  saw movi never watch movi bad movi scare much ...\n",
       "14681  whenev ida lupino appear direct film 30 40 50 ...\n",
       "...                                                  ...\n",
       "37344  sure like dolph lundgren guess see screen make...\n",
       "10275  ca resid like see jackhol shut electr plant ra...\n",
       "20532  ever sinc 1981 nintendo make great video game ...\n",
       "3357   movi essenti like featur length pilot episod t...\n",
       "30163  one horror flick twenti someth fool around dar...\n",
       "\n",
       "[1000 rows x 1 columns]"
      ]
     },
     "execution_count": 37,
     "metadata": {},
     "output_type": "execute_result"
    }
   ],
   "source": [
    "x"
   ]
  },
  {
   "cell_type": "code",
   "execution_count": 38,
   "id": "4119c766",
   "metadata": {},
   "outputs": [],
   "source": [
    "y=df[['sentiment']]"
   ]
  },
  {
   "cell_type": "code",
   "execution_count": 39,
   "id": "deba39c4",
   "metadata": {},
   "outputs": [
    {
     "data": {
      "text/html": [
       "<div>\n",
       "<style scoped>\n",
       "    .dataframe tbody tr th:only-of-type {\n",
       "        vertical-align: middle;\n",
       "    }\n",
       "\n",
       "    .dataframe tbody tr th {\n",
       "        vertical-align: top;\n",
       "    }\n",
       "\n",
       "    .dataframe thead th {\n",
       "        text-align: right;\n",
       "    }\n",
       "</style>\n",
       "<table border=\"1\" class=\"dataframe\">\n",
       "  <thead>\n",
       "    <tr style=\"text-align: right;\">\n",
       "      <th></th>\n",
       "      <th>sentiment</th>\n",
       "    </tr>\n",
       "  </thead>\n",
       "  <tbody>\n",
       "    <tr>\n",
       "      <th>34500</th>\n",
       "      <td>0</td>\n",
       "    </tr>\n",
       "    <tr>\n",
       "      <th>584</th>\n",
       "      <td>0</td>\n",
       "    </tr>\n",
       "    <tr>\n",
       "      <th>21643</th>\n",
       "      <td>1</td>\n",
       "    </tr>\n",
       "    <tr>\n",
       "      <th>32806</th>\n",
       "      <td>1</td>\n",
       "    </tr>\n",
       "    <tr>\n",
       "      <th>14681</th>\n",
       "      <td>1</td>\n",
       "    </tr>\n",
       "    <tr>\n",
       "      <th>...</th>\n",
       "      <td>...</td>\n",
       "    </tr>\n",
       "    <tr>\n",
       "      <th>37344</th>\n",
       "      <td>0</td>\n",
       "    </tr>\n",
       "    <tr>\n",
       "      <th>10275</th>\n",
       "      <td>0</td>\n",
       "    </tr>\n",
       "    <tr>\n",
       "      <th>20532</th>\n",
       "      <td>1</td>\n",
       "    </tr>\n",
       "    <tr>\n",
       "      <th>3357</th>\n",
       "      <td>0</td>\n",
       "    </tr>\n",
       "    <tr>\n",
       "      <th>30163</th>\n",
       "      <td>0</td>\n",
       "    </tr>\n",
       "  </tbody>\n",
       "</table>\n",
       "<p>1000 rows × 1 columns</p>\n",
       "</div>"
      ],
      "text/plain": [
       "       sentiment\n",
       "34500          0\n",
       "584            0\n",
       "21643          1\n",
       "32806          1\n",
       "14681          1\n",
       "...          ...\n",
       "37344          0\n",
       "10275          0\n",
       "20532          1\n",
       "3357           0\n",
       "30163          0\n",
       "\n",
       "[1000 rows x 1 columns]"
      ]
     },
     "execution_count": 39,
     "metadata": {},
     "output_type": "execute_result"
    }
   ],
   "source": [
    "y"
   ]
  },
  {
   "cell_type": "code",
   "execution_count": 40,
   "id": "02cd5b63",
   "metadata": {},
   "outputs": [],
   "source": [
    "from sklearn.feature_extraction.text import CountVectorizer"
   ]
  },
  {
   "cell_type": "code",
   "execution_count": 41,
   "id": "312b6398",
   "metadata": {},
   "outputs": [],
   "source": [
    "cv=CountVectorizer()"
   ]
  },
  {
   "cell_type": "code",
   "execution_count": 42,
   "id": "207b4f3a",
   "metadata": {},
   "outputs": [
    {
     "data": {
      "text/plain": [
       "<1000x9700 sparse matrix of type '<class 'numpy.int64'>'\n",
       "\twith 59450 stored elements in Compressed Sparse Row format>"
      ]
     },
     "execution_count": 42,
     "metadata": {},
     "output_type": "execute_result"
    }
   ],
   "source": [
    "cv.fit_transform(df['review'])"
   ]
  },
  {
   "cell_type": "code",
   "execution_count": 43,
   "id": "17423b62",
   "metadata": {},
   "outputs": [],
   "source": [
    "pd.options.display.max_rows=10"
   ]
  },
  {
   "cell_type": "code",
   "execution_count": 44,
   "id": "870cd434",
   "metadata": {},
   "outputs": [],
   "source": [
    "X=cv.fit_transform(df['review']).toarray()"
   ]
  },
  {
   "cell_type": "code",
   "execution_count": 45,
   "id": "c640c794",
   "metadata": {},
   "outputs": [
    {
     "data": {
      "text/html": [
       "<div>\n",
       "<style scoped>\n",
       "    .dataframe tbody tr th:only-of-type {\n",
       "        vertical-align: middle;\n",
       "    }\n",
       "\n",
       "    .dataframe tbody tr th {\n",
       "        vertical-align: top;\n",
       "    }\n",
       "\n",
       "    .dataframe thead th {\n",
       "        text-align: right;\n",
       "    }\n",
       "</style>\n",
       "<table border=\"1\" class=\"dataframe\">\n",
       "  <thead>\n",
       "    <tr style=\"text-align: right;\">\n",
       "      <th></th>\n",
       "      <th>0</th>\n",
       "      <th>1</th>\n",
       "      <th>2</th>\n",
       "      <th>3</th>\n",
       "      <th>4</th>\n",
       "      <th>5</th>\n",
       "      <th>6</th>\n",
       "      <th>7</th>\n",
       "      <th>8</th>\n",
       "      <th>9</th>\n",
       "      <th>...</th>\n",
       "      <th>9690</th>\n",
       "      <th>9691</th>\n",
       "      <th>9692</th>\n",
       "      <th>9693</th>\n",
       "      <th>9694</th>\n",
       "      <th>9695</th>\n",
       "      <th>9696</th>\n",
       "      <th>9697</th>\n",
       "      <th>9698</th>\n",
       "      <th>9699</th>\n",
       "    </tr>\n",
       "  </thead>\n",
       "  <tbody>\n",
       "    <tr>\n",
       "      <th>0</th>\n",
       "      <td>0</td>\n",
       "      <td>0</td>\n",
       "      <td>0</td>\n",
       "      <td>0</td>\n",
       "      <td>0</td>\n",
       "      <td>0</td>\n",
       "      <td>0</td>\n",
       "      <td>0</td>\n",
       "      <td>0</td>\n",
       "      <td>0</td>\n",
       "      <td>...</td>\n",
       "      <td>0</td>\n",
       "      <td>0</td>\n",
       "      <td>0</td>\n",
       "      <td>0</td>\n",
       "      <td>0</td>\n",
       "      <td>0</td>\n",
       "      <td>0</td>\n",
       "      <td>0</td>\n",
       "      <td>0</td>\n",
       "      <td>0</td>\n",
       "    </tr>\n",
       "    <tr>\n",
       "      <th>1</th>\n",
       "      <td>0</td>\n",
       "      <td>0</td>\n",
       "      <td>0</td>\n",
       "      <td>0</td>\n",
       "      <td>0</td>\n",
       "      <td>0</td>\n",
       "      <td>0</td>\n",
       "      <td>0</td>\n",
       "      <td>0</td>\n",
       "      <td>0</td>\n",
       "      <td>...</td>\n",
       "      <td>0</td>\n",
       "      <td>0</td>\n",
       "      <td>0</td>\n",
       "      <td>0</td>\n",
       "      <td>0</td>\n",
       "      <td>0</td>\n",
       "      <td>0</td>\n",
       "      <td>0</td>\n",
       "      <td>0</td>\n",
       "      <td>0</td>\n",
       "    </tr>\n",
       "    <tr>\n",
       "      <th>2</th>\n",
       "      <td>0</td>\n",
       "      <td>0</td>\n",
       "      <td>0</td>\n",
       "      <td>0</td>\n",
       "      <td>0</td>\n",
       "      <td>0</td>\n",
       "      <td>0</td>\n",
       "      <td>0</td>\n",
       "      <td>0</td>\n",
       "      <td>0</td>\n",
       "      <td>...</td>\n",
       "      <td>0</td>\n",
       "      <td>0</td>\n",
       "      <td>0</td>\n",
       "      <td>0</td>\n",
       "      <td>0</td>\n",
       "      <td>0</td>\n",
       "      <td>0</td>\n",
       "      <td>0</td>\n",
       "      <td>0</td>\n",
       "      <td>0</td>\n",
       "    </tr>\n",
       "    <tr>\n",
       "      <th>3</th>\n",
       "      <td>0</td>\n",
       "      <td>0</td>\n",
       "      <td>0</td>\n",
       "      <td>0</td>\n",
       "      <td>0</td>\n",
       "      <td>0</td>\n",
       "      <td>0</td>\n",
       "      <td>0</td>\n",
       "      <td>0</td>\n",
       "      <td>0</td>\n",
       "      <td>...</td>\n",
       "      <td>0</td>\n",
       "      <td>0</td>\n",
       "      <td>0</td>\n",
       "      <td>0</td>\n",
       "      <td>0</td>\n",
       "      <td>0</td>\n",
       "      <td>0</td>\n",
       "      <td>0</td>\n",
       "      <td>0</td>\n",
       "      <td>0</td>\n",
       "    </tr>\n",
       "    <tr>\n",
       "      <th>4</th>\n",
       "      <td>0</td>\n",
       "      <td>0</td>\n",
       "      <td>0</td>\n",
       "      <td>0</td>\n",
       "      <td>0</td>\n",
       "      <td>0</td>\n",
       "      <td>0</td>\n",
       "      <td>0</td>\n",
       "      <td>0</td>\n",
       "      <td>0</td>\n",
       "      <td>...</td>\n",
       "      <td>0</td>\n",
       "      <td>0</td>\n",
       "      <td>0</td>\n",
       "      <td>0</td>\n",
       "      <td>0</td>\n",
       "      <td>0</td>\n",
       "      <td>0</td>\n",
       "      <td>0</td>\n",
       "      <td>0</td>\n",
       "      <td>0</td>\n",
       "    </tr>\n",
       "    <tr>\n",
       "      <th>...</th>\n",
       "      <td>...</td>\n",
       "      <td>...</td>\n",
       "      <td>...</td>\n",
       "      <td>...</td>\n",
       "      <td>...</td>\n",
       "      <td>...</td>\n",
       "      <td>...</td>\n",
       "      <td>...</td>\n",
       "      <td>...</td>\n",
       "      <td>...</td>\n",
       "      <td>...</td>\n",
       "      <td>...</td>\n",
       "      <td>...</td>\n",
       "      <td>...</td>\n",
       "      <td>...</td>\n",
       "      <td>...</td>\n",
       "      <td>...</td>\n",
       "      <td>...</td>\n",
       "      <td>...</td>\n",
       "      <td>...</td>\n",
       "      <td>...</td>\n",
       "    </tr>\n",
       "    <tr>\n",
       "      <th>995</th>\n",
       "      <td>0</td>\n",
       "      <td>0</td>\n",
       "      <td>0</td>\n",
       "      <td>0</td>\n",
       "      <td>0</td>\n",
       "      <td>0</td>\n",
       "      <td>0</td>\n",
       "      <td>0</td>\n",
       "      <td>1</td>\n",
       "      <td>0</td>\n",
       "      <td>...</td>\n",
       "      <td>0</td>\n",
       "      <td>0</td>\n",
       "      <td>0</td>\n",
       "      <td>0</td>\n",
       "      <td>0</td>\n",
       "      <td>0</td>\n",
       "      <td>0</td>\n",
       "      <td>0</td>\n",
       "      <td>0</td>\n",
       "      <td>0</td>\n",
       "    </tr>\n",
       "    <tr>\n",
       "      <th>996</th>\n",
       "      <td>0</td>\n",
       "      <td>0</td>\n",
       "      <td>0</td>\n",
       "      <td>0</td>\n",
       "      <td>0</td>\n",
       "      <td>0</td>\n",
       "      <td>0</td>\n",
       "      <td>0</td>\n",
       "      <td>0</td>\n",
       "      <td>0</td>\n",
       "      <td>...</td>\n",
       "      <td>0</td>\n",
       "      <td>0</td>\n",
       "      <td>0</td>\n",
       "      <td>0</td>\n",
       "      <td>0</td>\n",
       "      <td>0</td>\n",
       "      <td>0</td>\n",
       "      <td>0</td>\n",
       "      <td>0</td>\n",
       "      <td>0</td>\n",
       "    </tr>\n",
       "    <tr>\n",
       "      <th>997</th>\n",
       "      <td>0</td>\n",
       "      <td>0</td>\n",
       "      <td>0</td>\n",
       "      <td>0</td>\n",
       "      <td>0</td>\n",
       "      <td>0</td>\n",
       "      <td>0</td>\n",
       "      <td>0</td>\n",
       "      <td>0</td>\n",
       "      <td>0</td>\n",
       "      <td>...</td>\n",
       "      <td>0</td>\n",
       "      <td>0</td>\n",
       "      <td>0</td>\n",
       "      <td>0</td>\n",
       "      <td>0</td>\n",
       "      <td>0</td>\n",
       "      <td>0</td>\n",
       "      <td>0</td>\n",
       "      <td>0</td>\n",
       "      <td>0</td>\n",
       "    </tr>\n",
       "    <tr>\n",
       "      <th>998</th>\n",
       "      <td>0</td>\n",
       "      <td>0</td>\n",
       "      <td>0</td>\n",
       "      <td>0</td>\n",
       "      <td>0</td>\n",
       "      <td>0</td>\n",
       "      <td>0</td>\n",
       "      <td>0</td>\n",
       "      <td>0</td>\n",
       "      <td>0</td>\n",
       "      <td>...</td>\n",
       "      <td>0</td>\n",
       "      <td>0</td>\n",
       "      <td>0</td>\n",
       "      <td>0</td>\n",
       "      <td>0</td>\n",
       "      <td>0</td>\n",
       "      <td>0</td>\n",
       "      <td>0</td>\n",
       "      <td>0</td>\n",
       "      <td>0</td>\n",
       "    </tr>\n",
       "    <tr>\n",
       "      <th>999</th>\n",
       "      <td>0</td>\n",
       "      <td>0</td>\n",
       "      <td>0</td>\n",
       "      <td>0</td>\n",
       "      <td>0</td>\n",
       "      <td>0</td>\n",
       "      <td>0</td>\n",
       "      <td>0</td>\n",
       "      <td>0</td>\n",
       "      <td>0</td>\n",
       "      <td>...</td>\n",
       "      <td>0</td>\n",
       "      <td>0</td>\n",
       "      <td>0</td>\n",
       "      <td>0</td>\n",
       "      <td>0</td>\n",
       "      <td>0</td>\n",
       "      <td>0</td>\n",
       "      <td>0</td>\n",
       "      <td>0</td>\n",
       "      <td>0</td>\n",
       "    </tr>\n",
       "  </tbody>\n",
       "</table>\n",
       "<p>1000 rows × 9700 columns</p>\n",
       "</div>"
      ],
      "text/plain": [
       "     0     1     2     3     4     5     6     7     8     9     ...  9690  \\\n",
       "0       0     0     0     0     0     0     0     0     0     0  ...     0   \n",
       "1       0     0     0     0     0     0     0     0     0     0  ...     0   \n",
       "2       0     0     0     0     0     0     0     0     0     0  ...     0   \n",
       "3       0     0     0     0     0     0     0     0     0     0  ...     0   \n",
       "4       0     0     0     0     0     0     0     0     0     0  ...     0   \n",
       "..    ...   ...   ...   ...   ...   ...   ...   ...   ...   ...  ...   ...   \n",
       "995     0     0     0     0     0     0     0     0     1     0  ...     0   \n",
       "996     0     0     0     0     0     0     0     0     0     0  ...     0   \n",
       "997     0     0     0     0     0     0     0     0     0     0  ...     0   \n",
       "998     0     0     0     0     0     0     0     0     0     0  ...     0   \n",
       "999     0     0     0     0     0     0     0     0     0     0  ...     0   \n",
       "\n",
       "     9691  9692  9693  9694  9695  9696  9697  9698  9699  \n",
       "0       0     0     0     0     0     0     0     0     0  \n",
       "1       0     0     0     0     0     0     0     0     0  \n",
       "2       0     0     0     0     0     0     0     0     0  \n",
       "3       0     0     0     0     0     0     0     0     0  \n",
       "4       0     0     0     0     0     0     0     0     0  \n",
       "..    ...   ...   ...   ...   ...   ...   ...   ...   ...  \n",
       "995     0     0     0     0     0     0     0     0     0  \n",
       "996     0     0     0     0     0     0     0     0     0  \n",
       "997     0     0     0     0     0     0     0     0     0  \n",
       "998     0     0     0     0     0     0     0     0     0  \n",
       "999     0     0     0     0     0     0     0     0     0  \n",
       "\n",
       "[1000 rows x 9700 columns]"
      ]
     },
     "execution_count": 45,
     "metadata": {},
     "output_type": "execute_result"
    }
   ],
   "source": [
    "pd.DataFrame(X)"
   ]
  },
  {
   "cell_type": "code",
   "execution_count": 46,
   "id": "77b820a2",
   "metadata": {},
   "outputs": [],
   "source": [
    "d={}\n",
    "for i in df['review'].iloc[253].split(' '):\n",
    "    d[i]=df['review'].iloc[253].split(' ').count(i)"
   ]
  },
  {
   "cell_type": "code",
   "execution_count": 47,
   "id": "6ee78078",
   "metadata": {},
   "outputs": [
    {
     "data": {
      "text/plain": [
       "{'20': 1,\n",
       " 'year': 1,\n",
       " 'ago': 1,\n",
       " 'dr': 3,\n",
       " 'chopper': 4,\n",
       " 'ye': 1,\n",
       " 'drive': 1,\n",
       " 'well': 2,\n",
       " 'chop': 1,\n",
       " 'peopl': 2,\n",
       " 'disappear': 2,\n",
       " 'polic': 1,\n",
       " 'found': 2,\n",
       " 'dead': 2,\n",
       " 'bodi': 5,\n",
       " 'clinic': 1,\n",
       " 'sinc': 1,\n",
       " 'around': 1,\n",
       " 'lake': 2,\n",
       " 'tanoka': 2,\n",
       " 'someth': 2,\n",
       " 'part': 3,\n",
       " 'place': 1,\n",
       " 'turn': 1,\n",
       " 'need': 1,\n",
       " 'stay': 1,\n",
       " 'aliv': 1,\n",
       " 'take': 1,\n",
       " 'stranger': 1,\n",
       " 'like': 1,\n",
       " 'pair': 1,\n",
       " 'lesbian': 1,\n",
       " '5': 1,\n",
       " 'soror': 1,\n",
       " 'girl': 2,\n",
       " 'initi': 1,\n",
       " 'get': 1,\n",
       " 'pictur': 1,\n",
       " 'travel': 1,\n",
       " 'bunch': 1,\n",
       " 'teenag': 1,\n",
       " 'decid': 1,\n",
       " 'go': 1,\n",
       " 'camp': 1,\n",
       " 'bound': 1,\n",
       " 'clash': 1,\n",
       " 'doctor': 1,\n",
       " 'wanna': 1,\n",
       " 'wast': 1,\n",
       " 'time': 3,\n",
       " 'right': 1,\n",
       " 'choic': 1,\n",
       " 'act': 1,\n",
       " 'vari': 1,\n",
       " 'realli': 2,\n",
       " 'bad': 1,\n",
       " 'mediocr': 1,\n",
       " 'trip': 1,\n",
       " 'fall': 1,\n",
       " 'appar': 1,\n",
       " 'reason': 1,\n",
       " 'everi': 2,\n",
       " 'chanc': 1,\n",
       " 'show': 2,\n",
       " 'skin': 1,\n",
       " 'taken': 1,\n",
       " 'without': 1,\n",
       " 'actual': 1,\n",
       " 'anyth': 1,\n",
       " 'goe': 1,\n",
       " 'special': 1,\n",
       " 'effect': 1,\n",
       " 'pretti': 2,\n",
       " 'pathet': 1,\n",
       " 'slash': 2,\n",
       " 'film': 1,\n",
       " 'angl': 1,\n",
       " 'cant': 1,\n",
       " 'see': 1,\n",
       " 'lot': 1,\n",
       " 'movi': 1,\n",
       " 'drench': 1,\n",
       " 'blood': 1,\n",
       " 'probabl': 1,\n",
       " 'cover': 1,\n",
       " 'sad': 2,\n",
       " 'look': 1,\n",
       " 'plot': 1,\n",
       " 'faulti': 1,\n",
       " 'dialog': 1,\n",
       " 'rather': 1,\n",
       " 'laugh': 1,\n",
       " 'said': 1,\n",
       " 'howdi': 1,\n",
       " 'tri': 1,\n",
       " 'scari': 1,\n",
       " 'watch': 2,\n",
       " 'one': 1,\n",
       " 'hack': 1,\n",
       " 'n': 1,\n",
       " 'freak': 1,\n",
       " 'even': 1,\n",
       " 'would': 1,\n",
       " 'recommend': 1,\n",
       " 'better': 1}"
      ]
     },
     "execution_count": 47,
     "metadata": {},
     "output_type": "execute_result"
    }
   ],
   "source": [
    "d"
   ]
  },
  {
   "cell_type": "code",
   "execution_count": 48,
   "id": "f660e825",
   "metadata": {},
   "outputs": [],
   "source": [
    "from sklearn.model_selection import train_test_split"
   ]
  },
  {
   "cell_type": "code",
   "execution_count": 49,
   "id": "d56473d7",
   "metadata": {},
   "outputs": [],
   "source": [
    "X_train,X_test,y_train,y_test=train_test_split(X,y,test_size=0.2)"
   ]
  },
  {
   "cell_type": "code",
   "execution_count": 50,
   "id": "dc794b43",
   "metadata": {},
   "outputs": [],
   "source": [
    "from sklearn.naive_bayes import GaussianNB,MultinomialNB,BernoulliNB"
   ]
  },
  {
   "cell_type": "code",
   "execution_count": 51,
   "id": "f5d072cd",
   "metadata": {},
   "outputs": [],
   "source": [
    "from sklearn.metrics import accuracy_score"
   ]
  },
  {
   "cell_type": "code",
   "execution_count": 52,
   "id": "b3cdc131",
   "metadata": {},
   "outputs": [],
   "source": [
    "nb1=GaussianNB()\n",
    "nb2=MultinomialNB()\n",
    "nb3=BernoulliNB()"
   ]
  },
  {
   "cell_type": "code",
   "execution_count": 53,
   "id": "3eb26648",
   "metadata": {},
   "outputs": [],
   "source": [
    "def Algo(model):\n",
    "    model.fit(X_train,y_train)\n",
    "    y_pred=model.predict(X_test)\n",
    "    print(accuracy_score(y_test,y_pred))"
   ]
  },
  {
   "cell_type": "code",
   "execution_count": 54,
   "id": "7ee755bf",
   "metadata": {},
   "outputs": [
    {
     "name": "stdout",
     "output_type": "stream",
     "text": [
      "0.635\n"
     ]
    }
   ],
   "source": [
    "Algo(nb1)"
   ]
  },
  {
   "cell_type": "code",
   "execution_count": 55,
   "id": "41abba11",
   "metadata": {},
   "outputs": [
    {
     "name": "stdout",
     "output_type": "stream",
     "text": [
      "0.84\n"
     ]
    }
   ],
   "source": [
    "Algo(nb2)"
   ]
  },
  {
   "cell_type": "code",
   "execution_count": 56,
   "id": "1fcb8793",
   "metadata": {},
   "outputs": [
    {
     "name": "stdout",
     "output_type": "stream",
     "text": [
      "0.795\n"
     ]
    }
   ],
   "source": [
    "Algo(nb3)"
   ]
  },
  {
   "cell_type": "code",
   "execution_count": null,
   "id": "42c36008",
   "metadata": {},
   "outputs": [],
   "source": []
  }
 ],
 "metadata": {
  "kernelspec": {
   "display_name": "Python 3 (ipykernel)",
   "language": "python",
   "name": "python3"
  },
  "language_info": {
   "codemirror_mode": {
    "name": "ipython",
    "version": 3
   },
   "file_extension": ".py",
   "mimetype": "text/x-python",
   "name": "python",
   "nbconvert_exporter": "python",
   "pygments_lexer": "ipython3",
   "version": "3.11.4"
  }
 },
 "nbformat": 4,
 "nbformat_minor": 5
}
